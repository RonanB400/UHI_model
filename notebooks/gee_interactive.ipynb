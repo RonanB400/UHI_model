{
 "cells": [
  {
   "cell_type": "code",
   "execution_count": 1,
   "metadata": {},
   "outputs": [],
   "source": [
    "%load_ext autoreload\n",
    "%autoreload 2\n",
    "\n",
    "import ee\n",
    "import geemap\n",
    "import os\n",
    "import requests\n",
    "import numpy as np\n",
    "import planetary_computer as pc\n",
    "import pystac_client\n",
    "import rasterio\n",
    "from rasterio.warp import reproject, Resampling\n",
    "from pathlib import Path\n",
    "\n",
    "import sys\n",
    "sys.path.append(os.path.abspath(os.path.join(os.getcwd(), '..')))\n",
    "\n",
    "\n",
    "# Initialize Earth Engine\n",
    "try:\n",
    "    ee.Initialize()\n",
    "except Exception:\n",
    "    ee.Authenticate()\n",
    "    ee.Initialize()\n",
    "\n",
    "# Define Lyon Area of Interest\n",
    "# Lyon, France coordinates\n",
    "u_lon = 4.834838\n",
    "u_lat = 45.769467\n",
    "u_poi = ee.Geometry.Point(u_lon, u_lat)\n",
    "\n",
    "# Define a region of interest with a buffer zone around Le Wagon, Lyon.\n",
    "# Buffer increased to 5km for a better UHI study area\n",
    "lyon_geometry = u_poi.buffer(5000)  # Buffer in meters\n",
    "\n",
    "# Define time period (summer months often show strongest UHI effects)\n",
    "start_date = '2022-06-01'\n",
    "end_date = '2022-08-31'\n",
    "\n",
    "# Common projection for all datasets\n",
    "target_crs = 'EPSG:4326'\n",
    "lst_resolution = 100  # LST resolution in meters"
   ]
  },
  {
   "cell_type": "code",
   "execution_count": 2,
   "metadata": {},
   "outputs": [
    {
     "data": {
      "text/html": [
       "\n",
       "            <style>\n",
       "                .geemap-dark {\n",
       "                    --jp-widgets-color: white;\n",
       "                    --jp-widgets-label-color: white;\n",
       "                    --jp-ui-font-color1: white;\n",
       "                    --jp-layout-color2: #454545;\n",
       "                    background-color: #383838;\n",
       "                }\n",
       "\n",
       "                .geemap-dark .jupyter-button {\n",
       "                    --jp-layout-color3: #383838;\n",
       "                }\n",
       "\n",
       "                .geemap-colab {\n",
       "                    background-color: var(--colab-primary-surface-color, white);\n",
       "                }\n",
       "\n",
       "                .geemap-colab .jupyter-button {\n",
       "                    --jp-layout-color3: var(--colab-primary-surface-color, white);\n",
       "                }\n",
       "            </style>\n",
       "            "
      ],
      "text/plain": [
       "<IPython.core.display.HTML object>"
      ]
     },
     "metadata": {},
     "output_type": "display_data"
    },
    {
     "data": {
      "text/plain": [
       "'/home/ronan/code/RonanB400/Project/UHI_model/data'"
      ]
     },
     "execution_count": 2,
     "metadata": {},
     "output_type": "execute_result"
    }
   ],
   "source": [
    "output_dir = os.path.join(os.path.dirname(os.getcwd()),'data')\n",
    "output_dir"
   ]
  },
  {
   "cell_type": "code",
   "execution_count": 13,
   "metadata": {},
   "outputs": [
    {
     "data": {
      "text/html": [
       "\n",
       "            <style>\n",
       "                .geemap-dark {\n",
       "                    --jp-widgets-color: white;\n",
       "                    --jp-widgets-label-color: white;\n",
       "                    --jp-ui-font-color1: white;\n",
       "                    --jp-layout-color2: #454545;\n",
       "                    background-color: #383838;\n",
       "                }\n",
       "\n",
       "                .geemap-dark .jupyter-button {\n",
       "                    --jp-layout-color3: #383838;\n",
       "                }\n",
       "\n",
       "                .geemap-colab {\n",
       "                    background-color: var(--colab-primary-surface-color, white);\n",
       "                }\n",
       "\n",
       "                .geemap-colab .jupyter-button {\n",
       "                    --jp-layout-color3: var(--colab-primary-surface-color, white);\n",
       "                }\n",
       "            </style>\n",
       "            "
      ],
      "text/plain": [
       "<IPython.core.display.HTML object>"
      ]
     },
     "metadata": {},
     "output_type": "display_data"
    },
    {
     "name": "stdout",
     "output_type": "stream",
     "text": [
      "Processing Landsat data...\n",
      "Number of Landsat scenes: 6\n",
      "Downloaded LST to /home/ronan/code/RonanB400/Project/UHI_model/data/Lyon_LST_Landsat_2022-07-14.tif\n"
     ]
    },
    {
     "data": {
      "text/plain": [
       "'/home/ronan/code/RonanB400/Project/UHI_model/data/Lyon_LST_Landsat_2022-07-14.tif'"
      ]
     },
     "execution_count": 13,
     "metadata": {},
     "output_type": "execute_result"
    }
   ],
   "source": [
    "from uhi.gee_data_download import download_landsat_data\n",
    "\n",
    "download_landsat_data(output_dir)"
   ]
  },
  {
   "cell_type": "code",
   "execution_count": 14,
   "metadata": {},
   "outputs": [
    {
     "data": {
      "text/html": [
       "\n",
       "            <style>\n",
       "                .geemap-dark {\n",
       "                    --jp-widgets-color: white;\n",
       "                    --jp-widgets-label-color: white;\n",
       "                    --jp-ui-font-color1: white;\n",
       "                    --jp-layout-color2: #454545;\n",
       "                    background-color: #383838;\n",
       "                }\n",
       "\n",
       "                .geemap-dark .jupyter-button {\n",
       "                    --jp-layout-color3: #383838;\n",
       "                }\n",
       "\n",
       "                .geemap-colab {\n",
       "                    background-color: var(--colab-primary-surface-color, white);\n",
       "                }\n",
       "\n",
       "                .geemap-colab .jupyter-button {\n",
       "                    --jp-layout-color3: var(--colab-primary-surface-color, white);\n",
       "                }\n",
       "            </style>\n",
       "            "
      ],
      "text/plain": [
       "<IPython.core.display.HTML object>"
      ]
     },
     "metadata": {},
     "output_type": "display_data"
    },
    {
     "name": "stdout",
     "output_type": "stream",
     "text": [
      "Processing Sentinel-2 data...\n",
      "Number of Sentinel-2 scenes: 20\n",
      "Downloaded NDVI to /home/ronan/code/RonanB400/Project/UHI_model/data/Lyon_NDVI_Sentinel_2022-07-18.tif\n"
     ]
    },
    {
     "data": {
      "text/plain": [
       "'/home/ronan/code/RonanB400/Project/UHI_model/data/Lyon_NDVI_Sentinel_2022-07-18.tif'"
      ]
     },
     "execution_count": 14,
     "metadata": {},
     "output_type": "execute_result"
    }
   ],
   "source": [
    "from uhi.gee_data_download import download_sentinel_data\n",
    "\n",
    "download_sentinel_data(output_dir)"
   ]
  },
  {
   "cell_type": "code",
   "execution_count": 16,
   "metadata": {},
   "outputs": [
    {
     "data": {
      "text/html": [
       "\n",
       "            <style>\n",
       "                .geemap-dark {\n",
       "                    --jp-widgets-color: white;\n",
       "                    --jp-widgets-label-color: white;\n",
       "                    --jp-ui-font-color1: white;\n",
       "                    --jp-layout-color2: #454545;\n",
       "                    background-color: #383838;\n",
       "                }\n",
       "\n",
       "                .geemap-dark .jupyter-button {\n",
       "                    --jp-layout-color3: #383838;\n",
       "                }\n",
       "\n",
       "                .geemap-colab {\n",
       "                    background-color: var(--colab-primary-surface-color, white);\n",
       "                }\n",
       "\n",
       "                .geemap-colab .jupyter-button {\n",
       "                    --jp-layout-color3: var(--colab-primary-surface-color, white);\n",
       "                }\n",
       "            </style>\n",
       "            "
      ],
      "text/plain": [
       "<IPython.core.display.HTML object>"
      ]
     },
     "metadata": {},
     "output_type": "display_data"
    },
    {
     "name": "stdout",
     "output_type": "stream",
     "text": [
      "Processing impervious surface data...\n",
      "Downloaded impervious surface to /home/ronan/code/RonanB400/Project/UHI_model/data/Lyon_Impervious_GHSL_2018-01-01.tif\n"
     ]
    },
    {
     "data": {
      "text/plain": [
       "'/home/ronan/code/RonanB400/Project/UHI_model/data/Lyon_Impervious_GHSL_2018-01-01.tif'"
      ]
     },
     "execution_count": 16,
     "metadata": {},
     "output_type": "execute_result"
    }
   ],
   "source": [
    "from uhi.gee_data_download import download_impervious_surface\n",
    "\n",
    "download_impervious_surface(output_dir)"
   ]
  },
  {
   "cell_type": "code",
   "execution_count": 4,
   "metadata": {},
   "outputs": [
    {
     "data": {
      "text/html": [
       "\n",
       "            <style>\n",
       "                .geemap-dark {\n",
       "                    --jp-widgets-color: white;\n",
       "                    --jp-widgets-label-color: white;\n",
       "                    --jp-ui-font-color1: white;\n",
       "                    --jp-layout-color2: #454545;\n",
       "                    background-color: #383838;\n",
       "                }\n",
       "\n",
       "                .geemap-dark .jupyter-button {\n",
       "                    --jp-layout-color3: #383838;\n",
       "                }\n",
       "\n",
       "                .geemap-colab {\n",
       "                    background-color: var(--colab-primary-surface-color, white);\n",
       "                }\n",
       "\n",
       "                .geemap-colab .jupyter-button {\n",
       "                    --jp-layout-color3: var(--colab-primary-surface-color, white);\n",
       "                }\n",
       "            </style>\n",
       "            "
      ],
      "text/plain": [
       "<IPython.core.display.HTML object>"
      ]
     },
     "metadata": {},
     "output_type": "display_data"
    },
    {
     "name": "stdout",
     "output_type": "stream",
     "text": [
      "Processing ESA WorldCover land cover data...\n",
      "Downloaded land cover data to /home/ronan/code/RonanB400/Project/UHI_model/data/Lyon_LandCover_ESA_2021-01-01.tif\n"
     ]
    },
    {
     "data": {
      "text/plain": [
       "'/home/ronan/code/RonanB400/Project/UHI_model/data/Lyon_LandCover_ESA_2021-01-01.tif'"
      ]
     },
     "execution_count": 4,
     "metadata": {},
     "output_type": "execute_result"
    }
   ],
   "source": [
    "from uhi.gee_data_download import download_land_cover\n",
    "\n",
    "download_land_cover(output_dir)"
   ]
  },
  {
   "cell_type": "code",
   "execution_count": 8,
   "metadata": {},
   "outputs": [
    {
     "data": {
      "text/html": [
       "\n",
       "            <style>\n",
       "                .geemap-dark {\n",
       "                    --jp-widgets-color: white;\n",
       "                    --jp-widgets-label-color: white;\n",
       "                    --jp-ui-font-color1: white;\n",
       "                    --jp-layout-color2: #454545;\n",
       "                    background-color: #383838;\n",
       "                }\n",
       "\n",
       "                .geemap-dark .jupyter-button {\n",
       "                    --jp-layout-color3: #383838;\n",
       "                }\n",
       "\n",
       "                .geemap-colab {\n",
       "                    background-color: var(--colab-primary-surface-color, white);\n",
       "                }\n",
       "\n",
       "                .geemap-colab .jupyter-button {\n",
       "                    --jp-layout-color3: var(--colab-primary-surface-color, white);\n",
       "                }\n",
       "            </style>\n",
       "            "
      ],
      "text/plain": [
       "<IPython.core.display.HTML object>"
      ]
     },
     "metadata": {},
     "output_type": "display_data"
    },
    {
     "name": "stdout",
     "output_type": "stream",
     "text": [
      "Aligning data layers...\n",
      "Aligned LST saved to /home/ronan/code/RonanB400/Project/UHI_model/data/Aligned/Lyon_LST_Landsat_2022-07-14_aligned.tif\n",
      "Aligned /home/ronan/code/RonanB400/Project/UHI_model/data/Lyon_NDVI_Sentinel_2022-07-18.tif to /home/ronan/code/RonanB400/Project/UHI_model/data/Aligned/Lyon_NDVI_Sentinel_2022-07-18_aligned.tif (preserved resolution: 8.983152841195215e-05m)\n",
      "Aligned /home/ronan/code/RonanB400/Project/UHI_model/data/Lyon_Impervious_GHSL_2018-01-01.tif to /home/ronan/code/RonanB400/Project/UHI_model/data/Aligned/Lyon_Impervious_GHSL_2018-01-01_aligned.tif (preserved resolution: 8.983152841195215e-05m)\n",
      "Aligned /home/ronan/code/RonanB400/Project/UHI_model/data/Lyon_LandCover_ESA_2021-01-01.tif to /home/ronan/code/RonanB400/Project/UHI_model/data/Aligned/Lyon_LandCover_ESA_2021-01-01_aligned.tif (preserved resolution: 8.983152841195215e-05m)\n",
      "All layers aligned to the same extent and saved to /home/ronan/code/RonanB400/Project/UHI_model/data/Aligned\n"
     ]
    },
    {
     "data": {
      "text/plain": [
       "'/home/ronan/code/RonanB400/Project/UHI_model/data/Aligned'"
      ]
     },
     "execution_count": 8,
     "metadata": {},
     "output_type": "execute_result"
    }
   ],
   "source": [
    "from uhi.gee_data_download import align_and_resample\n",
    "\n",
    "lst_file = 'Lyon_LST_Landsat_2022-07-14.tif'\n",
    "ndvi_file = 'Lyon_NDVI_Sentinel_2022-07-18.tif'\n",
    "impervious_file = 'Lyon_Impervious_GHSL_2018-01-01.tif'\n",
    "land_cover_file = 'Lyon_LandCover_ESA_2021-01-01.tif'\n",
    "\n",
    "align_and_resample(output_dir, lst_file, ndvi_file, impervious_file, land_cover_file)"
   ]
  },
  {
   "cell_type": "code",
   "execution_count": 9,
   "metadata": {},
   "outputs": [
    {
     "data": {
      "text/html": [
       "\n",
       "            <style>\n",
       "                .geemap-dark {\n",
       "                    --jp-widgets-color: white;\n",
       "                    --jp-widgets-label-color: white;\n",
       "                    --jp-ui-font-color1: white;\n",
       "                    --jp-layout-color2: #454545;\n",
       "                    background-color: #383838;\n",
       "                }\n",
       "\n",
       "                .geemap-dark .jupyter-button {\n",
       "                    --jp-layout-color3: #383838;\n",
       "                }\n",
       "\n",
       "                .geemap-colab {\n",
       "                    background-color: var(--colab-primary-surface-color, white);\n",
       "                }\n",
       "\n",
       "                .geemap-colab .jupyter-button {\n",
       "                    --jp-layout-color3: var(--colab-primary-surface-color, white);\n",
       "                }\n",
       "            </style>\n",
       "            "
      ],
      "text/plain": [
       "<IPython.core.display.HTML object>"
      ]
     },
     "metadata": {},
     "output_type": "display_data"
    },
    {
     "data": {
      "application/vnd.jupyter.widget-view+json": {
       "model_id": "cb638250cac5402382cb98808e248bd6",
       "version_major": 2,
       "version_minor": 0
      },
      "text/plain": [
       "Map(center=[45.769472129443855, 4.834838203925676], controls=(WidgetControl(options=['position', 'transparent_…"
      ]
     },
     "execution_count": 9,
     "metadata": {},
     "output_type": "execute_result"
    }
   ],
   "source": [
    "from uhi.gee_data_download import visualize_data\n",
    "\n",
    "visualize_data()"
   ]
  },
  {
   "cell_type": "code",
   "execution_count": null,
   "metadata": {},
   "outputs": [],
   "source": [
    "from uhi import debug_map\n",
    "\n",
    "visualize_map.main(output_dir)"
   ]
  },
  {
   "cell_type": "code",
   "execution_count": 27,
   "metadata": {},
   "outputs": [
    {
     "data": {
      "text/html": [
       "\n",
       "            <style>\n",
       "                .geemap-dark {\n",
       "                    --jp-widgets-color: white;\n",
       "                    --jp-widgets-label-color: white;\n",
       "                    --jp-ui-font-color1: white;\n",
       "                    --jp-layout-color2: #454545;\n",
       "                    background-color: #383838;\n",
       "                }\n",
       "\n",
       "                .geemap-dark .jupyter-button {\n",
       "                    --jp-layout-color3: #383838;\n",
       "                }\n",
       "\n",
       "                .geemap-colab {\n",
       "                    background-color: var(--colab-primary-surface-color, white);\n",
       "                }\n",
       "\n",
       "                .geemap-colab .jupyter-button {\n",
       "                    --jp-layout-color3: var(--colab-primary-surface-color, white);\n",
       "                }\n",
       "            </style>\n",
       "            "
      ],
      "text/plain": [
       "<IPython.core.display.HTML object>"
      ]
     },
     "metadata": {},
     "output_type": "display_data"
    },
    {
     "name": "stdout",
     "output_type": "stream",
     "text": [
      "Looking for files in: /home/ronan/code/RonanB400/Project/UHI_model/data/Aligned\n",
      "Files found in Aligned directory:\n",
      "- Lyon_Impervious_GHSL_2018-01-01_aligned.tif\n",
      "- Lyon_LandCover_ESA_2021-01-01_aligned.tif\n",
      "- Lyon_NDVI_Sentinel_2022-07-18_aligned.tif\n",
      "- Lyon_LST_Landsat_2022-07-14_aligned.tif\n",
      "Added LST marker from /home/ronan/code/RonanB400/Project/UHI_model/data/Aligned/Lyon_LST_Landsat_2022-07-14_aligned.tif\n",
      "Added NDVI marker from /home/ronan/code/RonanB400/Project/UHI_model/data/Aligned/Lyon_NDVI_Sentinel_2022-07-18_aligned.tif\n",
      "Added impervious surface marker from /home/ronan/code/RonanB400/Project/UHI_model/data/Aligned/Lyon_Impervious_GHSL_2018-01-01_aligned.tif\n",
      "Added land cover marker from /home/ronan/code/RonanB400/Project/UHI_model/data/Aligned/Lyon_LandCover_ESA_2021-01-01_aligned.tif\n",
      "Map saved to /home/ronan/code/RonanB400/Project/UHI_model/data/uhi_map.html\n",
      "Open this HTML file in your browser to view the interactive map\n",
      "For the full visualization, please use QGIS to view the GeoTIFF files\n"
     ]
    },
    {
     "data": {
      "text/html": [
       "<div style=\"width:100%;\"><div style=\"position:relative;width:100%;height:0;padding-bottom:60%;\"><span style=\"color:#565656\">Make this Notebook Trusted to load map: File -> Trust Notebook</span><iframe srcdoc=\"&lt;!DOCTYPE html&gt;\n",
       "&lt;html&gt;\n",
       "&lt;head&gt;\n",
       "    \n",
       "    &lt;meta http-equiv=&quot;content-type&quot; content=&quot;text/html; charset=UTF-8&quot; /&gt;\n",
       "    \n",
       "        &lt;script&gt;\n",
       "            L_NO_TOUCH = false;\n",
       "            L_DISABLE_3D = false;\n",
       "        &lt;/script&gt;\n",
       "    \n",
       "    &lt;style&gt;html, body {width: 100%;height: 100%;margin: 0;padding: 0;}&lt;/style&gt;\n",
       "    &lt;style&gt;#map {position:absolute;top:0;bottom:0;right:0;left:0;}&lt;/style&gt;\n",
       "    &lt;script src=&quot;https://cdn.jsdelivr.net/npm/leaflet@1.9.3/dist/leaflet.js&quot;&gt;&lt;/script&gt;\n",
       "    &lt;script src=&quot;https://code.jquery.com/jquery-3.7.1.min.js&quot;&gt;&lt;/script&gt;\n",
       "    &lt;script src=&quot;https://cdn.jsdelivr.net/npm/bootstrap@5.2.2/dist/js/bootstrap.bundle.min.js&quot;&gt;&lt;/script&gt;\n",
       "    &lt;script src=&quot;https://cdnjs.cloudflare.com/ajax/libs/Leaflet.awesome-markers/2.0.2/leaflet.awesome-markers.js&quot;&gt;&lt;/script&gt;\n",
       "    &lt;link rel=&quot;stylesheet&quot; href=&quot;https://cdn.jsdelivr.net/npm/leaflet@1.9.3/dist/leaflet.css&quot;/&gt;\n",
       "    &lt;link rel=&quot;stylesheet&quot; href=&quot;https://cdn.jsdelivr.net/npm/bootstrap@5.2.2/dist/css/bootstrap.min.css&quot;/&gt;\n",
       "    &lt;link rel=&quot;stylesheet&quot; href=&quot;https://netdna.bootstrapcdn.com/bootstrap/3.0.0/css/bootstrap-glyphicons.css&quot;/&gt;\n",
       "    &lt;link rel=&quot;stylesheet&quot; href=&quot;https://cdn.jsdelivr.net/npm/@fortawesome/fontawesome-free@6.2.0/css/all.min.css&quot;/&gt;\n",
       "    &lt;link rel=&quot;stylesheet&quot; href=&quot;https://cdnjs.cloudflare.com/ajax/libs/Leaflet.awesome-markers/2.0.2/leaflet.awesome-markers.css&quot;/&gt;\n",
       "    &lt;link rel=&quot;stylesheet&quot; href=&quot;https://cdn.jsdelivr.net/gh/python-visualization/folium/folium/templates/leaflet.awesome.rotate.min.css&quot;/&gt;\n",
       "    \n",
       "            &lt;meta name=&quot;viewport&quot; content=&quot;width=device-width,\n",
       "                initial-scale=1.0, maximum-scale=1.0, user-scalable=no&quot; /&gt;\n",
       "            &lt;style&gt;\n",
       "                #map_4284a2c71fe5c63710b9831d3b5e5e5a {\n",
       "                    position: relative;\n",
       "                    width: 100.0%;\n",
       "                    height: 100.0%;\n",
       "                    left: 0.0%;\n",
       "                    top: 0.0%;\n",
       "                }\n",
       "                .leaflet-container { font-size: 1rem; }\n",
       "            &lt;/style&gt;\n",
       "        \n",
       "    &lt;script src=&quot;https://cdn.jsdelivr.net/npm/leaflet.fullscreen@3.0.0/Control.FullScreen.min.js&quot;&gt;&lt;/script&gt;\n",
       "    &lt;link rel=&quot;stylesheet&quot; href=&quot;https://cdn.jsdelivr.net/npm/leaflet.fullscreen@3.0.0/Control.FullScreen.css&quot;/&gt;\n",
       "    &lt;script src=&quot;https://cdn.jsdelivr.net/gh/ardhi/Leaflet.MousePosition/src/L.Control.MousePosition.min.js&quot;&gt;&lt;/script&gt;\n",
       "    &lt;link rel=&quot;stylesheet&quot; href=&quot;https://cdn.jsdelivr.net/gh/ardhi/Leaflet.MousePosition/src/L.Control.MousePosition.min.css&quot;/&gt;\n",
       "&lt;/head&gt;\n",
       "&lt;body&gt;\n",
       "    \n",
       "    \n",
       "            &lt;div class=&quot;folium-map&quot; id=&quot;map_4284a2c71fe5c63710b9831d3b5e5e5a&quot; &gt;&lt;/div&gt;\n",
       "        \n",
       "&lt;/body&gt;\n",
       "&lt;script&gt;\n",
       "    \n",
       "    \n",
       "            var map_4284a2c71fe5c63710b9831d3b5e5e5a = L.map(\n",
       "                &quot;map_4284a2c71fe5c63710b9831d3b5e5e5a&quot;,\n",
       "                {\n",
       "                    center: [45.76961288353168, 4.834732859131265],\n",
       "                    crs: L.CRS.EPSG3857,\n",
       "                    ...{\n",
       "  &quot;zoom&quot;: 12,\n",
       "  &quot;zoomControl&quot;: true,\n",
       "  &quot;preferCanvas&quot;: false,\n",
       "}\n",
       "\n",
       "                }\n",
       "            );\n",
       "\n",
       "            \n",
       "\n",
       "        \n",
       "    \n",
       "            var tile_layer_8c5f7b0f29591ebc7c040d42dbd50bd3 = L.tileLayer(\n",
       "                &quot;https://{s}.basemaps.cartocdn.com/light_all/{z}/{x}/{y}{r}.png&quot;,\n",
       "                {\n",
       "  &quot;minZoom&quot;: 0,\n",
       "  &quot;maxZoom&quot;: 20,\n",
       "  &quot;maxNativeZoom&quot;: 20,\n",
       "  &quot;noWrap&quot;: false,\n",
       "  &quot;attribution&quot;: &quot;\\u0026copy; \\u003ca href=\\&quot;https://www.openstreetmap.org/copyright\\&quot;\\u003eOpenStreetMap\\u003c/a\\u003e contributors \\u0026copy; \\u003ca href=\\&quot;https://carto.com/attributions\\&quot;\\u003eCARTO\\u003c/a\\u003e&quot;,\n",
       "  &quot;subdomains&quot;: &quot;abcd&quot;,\n",
       "  &quot;detectRetina&quot;: false,\n",
       "  &quot;tms&quot;: false,\n",
       "  &quot;opacity&quot;: 1,\n",
       "}\n",
       "\n",
       "            );\n",
       "        \n",
       "    \n",
       "            tile_layer_8c5f7b0f29591ebc7c040d42dbd50bd3.addTo(map_4284a2c71fe5c63710b9831d3b5e5e5a);\n",
       "        \n",
       "    \n",
       "            var layer_control_395b79b407b264bdaf498d18e2639ef5_layers = {\n",
       "                base_layers : {\n",
       "                    &quot;cartodbpositron&quot; : tile_layer_8c5f7b0f29591ebc7c040d42dbd50bd3,\n",
       "                },\n",
       "                overlays :  {\n",
       "                    &quot;CartoDB Positron&quot; : tile_layer_6f1a235705a9ed6f264f73fa35d918bc,\n",
       "                },\n",
       "            };\n",
       "            let layer_control_395b79b407b264bdaf498d18e2639ef5 = L.control.layers(\n",
       "                layer_control_395b79b407b264bdaf498d18e2639ef5_layers.base_layers,\n",
       "                layer_control_395b79b407b264bdaf498d18e2639ef5_layers.overlays,\n",
       "                {\n",
       "  &quot;position&quot;: &quot;topright&quot;,\n",
       "  &quot;collapsed&quot;: true,\n",
       "  &quot;autoZIndex&quot;: true,\n",
       "}\n",
       "            ).addTo(map_4284a2c71fe5c63710b9831d3b5e5e5a);\n",
       "\n",
       "        \n",
       "    \n",
       "            var tile_layer_6f1a235705a9ed6f264f73fa35d918bc = L.tileLayer(\n",
       "                &quot;https://{s}.basemaps.cartocdn.com/light_all/{z}/{x}/{y}{r}.png&quot;,\n",
       "                {\n",
       "  &quot;minZoom&quot;: 0,\n",
       "  &quot;maxZoom&quot;: 20,\n",
       "  &quot;maxNativeZoom&quot;: 20,\n",
       "  &quot;noWrap&quot;: false,\n",
       "  &quot;attribution&quot;: &quot;CartoDB&quot;,\n",
       "  &quot;subdomains&quot;: &quot;abcd&quot;,\n",
       "  &quot;detectRetina&quot;: false,\n",
       "  &quot;tms&quot;: false,\n",
       "  &quot;opacity&quot;: 1,\n",
       "}\n",
       "\n",
       "            );\n",
       "        \n",
       "    \n",
       "            tile_layer_6f1a235705a9ed6f264f73fa35d918bc.addTo(map_4284a2c71fe5c63710b9831d3b5e5e5a);\n",
       "        \n",
       "    \n",
       "            L.control.fullscreen(\n",
       "                {\n",
       "  &quot;position&quot;: &quot;topleft&quot;,\n",
       "  &quot;title&quot;: &quot;Full Screen&quot;,\n",
       "  &quot;titleCancel&quot;: &quot;Exit Full Screen&quot;,\n",
       "  &quot;forceSeparateButton&quot;: false,\n",
       "}\n",
       "            ).addTo(map_4284a2c71fe5c63710b9831d3b5e5e5a);\n",
       "        \n",
       "    \n",
       "            var mouse_position_e10bd692735d5295a4e713ded320f346 = new L.Control.MousePosition(\n",
       "                {\n",
       "  &quot;position&quot;: &quot;bottomright&quot;,\n",
       "  &quot;separator&quot;: &quot; : &quot;,\n",
       "  &quot;emptyString&quot;: &quot;Unavailable&quot;,\n",
       "  &quot;lngFirst&quot;: false,\n",
       "  &quot;numDigits&quot;: 5,\n",
       "  &quot;prefix&quot;: &quot;&quot;,\n",
       "}\n",
       "            );\n",
       "            mouse_position_e10bd692735d5295a4e713ded320f346.options[&quot;latFormatter&quot;] =\n",
       "                undefined;\n",
       "            mouse_position_e10bd692735d5295a4e713ded320f346.options[&quot;lngFormatter&quot;] =\n",
       "                undefined;\n",
       "            map_4284a2c71fe5c63710b9831d3b5e5e5a.addControl(mouse_position_e10bd692735d5295a4e713ded320f346);\n",
       "        \n",
       "    \n",
       "            var circle_marker_f69fd9787a18b02ef27c6f08a3a85b6c = L.circleMarker(\n",
       "                [45.76961288353168, 4.834732859131265],\n",
       "                {&quot;bubblingMouseEvents&quot;: true, &quot;color&quot;: &quot;red&quot;, &quot;dashArray&quot;: null, &quot;dashOffset&quot;: null, &quot;fill&quot;: true, &quot;fillColor&quot;: &quot;red&quot;, &quot;fillOpacity&quot;: 0.6, &quot;fillRule&quot;: &quot;evenodd&quot;, &quot;lineCap&quot;: &quot;round&quot;, &quot;lineJoin&quot;: &quot;round&quot;, &quot;opacity&quot;: 1.0, &quot;radius&quot;: 15, &quot;stroke&quot;: true, &quot;weight&quot;: 3}\n",
       "            ).addTo(map_4284a2c71fe5c63710b9831d3b5e5e5a);\n",
       "        \n",
       "    \n",
       "        var popup_9c9712d11388dae6283929f9e7c0c957 = L.popup({\n",
       "  &quot;maxWidth&quot;: &quot;100%&quot;,\n",
       "});\n",
       "\n",
       "        \n",
       "            \n",
       "                var html_46dc5bf37f6cea968c6f967209a1c478 = $(`&lt;div id=&quot;html_46dc5bf37f6cea968c6f967209a1c478&quot; style=&quot;width: 100.0%; height: 100.0%;&quot;&gt;LST Data: Lyon_LST_Landsat_2022-07-14_aligned.tif&lt;/div&gt;`)[0];\n",
       "                popup_9c9712d11388dae6283929f9e7c0c957.setContent(html_46dc5bf37f6cea968c6f967209a1c478);\n",
       "            \n",
       "        \n",
       "\n",
       "        circle_marker_f69fd9787a18b02ef27c6f08a3a85b6c.bindPopup(popup_9c9712d11388dae6283929f9e7c0c957)\n",
       "        ;\n",
       "\n",
       "        \n",
       "    \n",
       "    \n",
       "            var circle_marker_d5ad9cae2f4c2a466d013db4afd2117c = L.circleMarker(\n",
       "                [45.76947813623906, 4.834957437952294],\n",
       "                {&quot;bubblingMouseEvents&quot;: true, &quot;color&quot;: &quot;green&quot;, &quot;dashArray&quot;: null, &quot;dashOffset&quot;: null, &quot;fill&quot;: true, &quot;fillColor&quot;: &quot;green&quot;, &quot;fillOpacity&quot;: 0.6, &quot;fillRule&quot;: &quot;evenodd&quot;, &quot;lineCap&quot;: &quot;round&quot;, &quot;lineJoin&quot;: &quot;round&quot;, &quot;opacity&quot;: 1.0, &quot;radius&quot;: 15, &quot;stroke&quot;: true, &quot;weight&quot;: 3}\n",
       "            ).addTo(map_4284a2c71fe5c63710b9831d3b5e5e5a);\n",
       "        \n",
       "    \n",
       "        var popup_6c4efe3dac9e3d6f1dfd189f0ce763e5 = L.popup({\n",
       "  &quot;maxWidth&quot;: &quot;100%&quot;,\n",
       "});\n",
       "\n",
       "        \n",
       "            \n",
       "                var html_c6e8d7f6b8bc8c12c0239850ea27c680 = $(`&lt;div id=&quot;html_c6e8d7f6b8bc8c12c0239850ea27c680&quot; style=&quot;width: 100.0%; height: 100.0%;&quot;&gt;NDVI Data: Lyon_NDVI_Sentinel_2022-07-18_aligned.tif&lt;/div&gt;`)[0];\n",
       "                popup_6c4efe3dac9e3d6f1dfd189f0ce763e5.setContent(html_c6e8d7f6b8bc8c12c0239850ea27c680);\n",
       "            \n",
       "        \n",
       "\n",
       "        circle_marker_d5ad9cae2f4c2a466d013db4afd2117c.bindPopup(popup_6c4efe3dac9e3d6f1dfd189f0ce763e5)\n",
       "        ;\n",
       "\n",
       "        \n",
       "    \n",
       "    \n",
       "            var circle_marker_082b16d8260df711b65a0c1b10d74ee5 = L.circleMarker(\n",
       "                [45.76947813623906, 4.834957437952294],\n",
       "                {&quot;bubblingMouseEvents&quot;: true, &quot;color&quot;: &quot;gray&quot;, &quot;dashArray&quot;: null, &quot;dashOffset&quot;: null, &quot;fill&quot;: true, &quot;fillColor&quot;: &quot;gray&quot;, &quot;fillOpacity&quot;: 0.6, &quot;fillRule&quot;: &quot;evenodd&quot;, &quot;lineCap&quot;: &quot;round&quot;, &quot;lineJoin&quot;: &quot;round&quot;, &quot;opacity&quot;: 1.0, &quot;radius&quot;: 15, &quot;stroke&quot;: true, &quot;weight&quot;: 3}\n",
       "            ).addTo(map_4284a2c71fe5c63710b9831d3b5e5e5a);\n",
       "        \n",
       "    \n",
       "        var popup_4e1c5ef4ffd70541f0f5897c89981cae = L.popup({\n",
       "  &quot;maxWidth&quot;: &quot;100%&quot;,\n",
       "});\n",
       "\n",
       "        \n",
       "            \n",
       "                var html_774ef6a8b888ac96adbb6ea5a8155750 = $(`&lt;div id=&quot;html_774ef6a8b888ac96adbb6ea5a8155750&quot; style=&quot;width: 100.0%; height: 100.0%;&quot;&gt;Impervious Data: Lyon_Impervious_GHSL_2018-01-01_aligned.tif&lt;/div&gt;`)[0];\n",
       "                popup_4e1c5ef4ffd70541f0f5897c89981cae.setContent(html_774ef6a8b888ac96adbb6ea5a8155750);\n",
       "            \n",
       "        \n",
       "\n",
       "        circle_marker_082b16d8260df711b65a0c1b10d74ee5.bindPopup(popup_4e1c5ef4ffd70541f0f5897c89981cae)\n",
       "        ;\n",
       "\n",
       "        \n",
       "    \n",
       "    \n",
       "            var circle_marker_794f4d3c2e6cc4f4536cb7929edfd194 = L.circleMarker(\n",
       "                [45.76947813623906, 4.834957437952294],\n",
       "                {&quot;bubblingMouseEvents&quot;: true, &quot;color&quot;: &quot;blue&quot;, &quot;dashArray&quot;: null, &quot;dashOffset&quot;: null, &quot;fill&quot;: true, &quot;fillColor&quot;: &quot;blue&quot;, &quot;fillOpacity&quot;: 0.6, &quot;fillRule&quot;: &quot;evenodd&quot;, &quot;lineCap&quot;: &quot;round&quot;, &quot;lineJoin&quot;: &quot;round&quot;, &quot;opacity&quot;: 1.0, &quot;radius&quot;: 15, &quot;stroke&quot;: true, &quot;weight&quot;: 3}\n",
       "            ).addTo(map_4284a2c71fe5c63710b9831d3b5e5e5a);\n",
       "        \n",
       "    \n",
       "        var popup_26746e934b5f686a2abb07f393f52273 = L.popup({\n",
       "  &quot;maxWidth&quot;: &quot;100%&quot;,\n",
       "});\n",
       "\n",
       "        \n",
       "            \n",
       "                var html_9631bcc6b124bca2fcd442bfb573ed61 = $(`&lt;div id=&quot;html_9631bcc6b124bca2fcd442bfb573ed61&quot; style=&quot;width: 100.0%; height: 100.0%;&quot;&gt;Land Cover Data: Lyon_LandCover_ESA_2021-01-01_aligned.tif&lt;/div&gt;`)[0];\n",
       "                popup_26746e934b5f686a2abb07f393f52273.setContent(html_9631bcc6b124bca2fcd442bfb573ed61);\n",
       "            \n",
       "        \n",
       "\n",
       "        circle_marker_794f4d3c2e6cc4f4536cb7929edfd194.bindPopup(popup_26746e934b5f686a2abb07f393f52273)\n",
       "        ;\n",
       "\n",
       "        \n",
       "    \n",
       "    \n",
       "            var rectangle_0516b0233b8a7a8f2ae0668edcc1241f = L.rectangle(\n",
       "                [[45.724247961683645, 4.770054158674659], [45.81497780537972, 4.89941155958787]],\n",
       "                {&quot;bubblingMouseEvents&quot;: true, &quot;color&quot;: &quot;red&quot;, &quot;dashArray&quot;: null, &quot;dashOffset&quot;: null, &quot;fill&quot;: false, &quot;fillColor&quot;: &quot;red&quot;, &quot;fillOpacity&quot;: 0.2, &quot;fillRule&quot;: &quot;evenodd&quot;, &quot;lineCap&quot;: &quot;round&quot;, &quot;lineJoin&quot;: &quot;round&quot;, &quot;noClip&quot;: false, &quot;opacity&quot;: 1.0, &quot;smoothFactor&quot;: 1.0, &quot;stroke&quot;: true, &quot;weight&quot;: 2}\n",
       "            ).addTo(map_4284a2c71fe5c63710b9831d3b5e5e5a);\n",
       "        \n",
       "    \n",
       "        var popup_210852108d36bb15a293c5dfb11b05a1 = L.popup({\n",
       "  &quot;maxWidth&quot;: &quot;100%&quot;,\n",
       "});\n",
       "\n",
       "        \n",
       "            \n",
       "                var html_0386da73be5f7e0a7c63b52a33f8b3e8 = $(`&lt;div id=&quot;html_0386da73be5f7e0a7c63b52a33f8b3e8&quot; style=&quot;width: 100.0%; height: 100.0%;&quot;&gt;LST Data Coverage&lt;/div&gt;`)[0];\n",
       "                popup_210852108d36bb15a293c5dfb11b05a1.setContent(html_0386da73be5f7e0a7c63b52a33f8b3e8);\n",
       "            \n",
       "        \n",
       "\n",
       "        rectangle_0516b0233b8a7a8f2ae0668edcc1241f.bindPopup(popup_210852108d36bb15a293c5dfb11b05a1)\n",
       "        ;\n",
       "\n",
       "        \n",
       "    \n",
       "    \n",
       "            var marker_bc100e391542ec2df9e8ae0c687ba66b = L.marker(\n",
       "                [45.77, 4.85],\n",
       "                {\n",
       "}\n",
       "            ).addTo(map_4284a2c71fe5c63710b9831d3b5e5e5a);\n",
       "        \n",
       "    \n",
       "            var icon_8df8f85b40ded1674561b6c56ff35deb = L.AwesomeMarkers.icon(\n",
       "                {\n",
       "  &quot;markerColor&quot;: &quot;blue&quot;,\n",
       "  &quot;iconColor&quot;: &quot;white&quot;,\n",
       "  &quot;icon&quot;: &quot;info-sign&quot;,\n",
       "  &quot;prefix&quot;: &quot;glyphicon&quot;,\n",
       "  &quot;extraClasses&quot;: &quot;fa-rotate-0&quot;,\n",
       "}\n",
       "            );\n",
       "        \n",
       "    \n",
       "        var popup_9ca171d5235ada5a5595f4dabd1b4d37 = L.popup({\n",
       "  &quot;maxWidth&quot;: &quot;100%&quot;,\n",
       "});\n",
       "\n",
       "        \n",
       "            \n",
       "                var html_97c6d28868387b1351486e4fca499d45 = $(`&lt;div id=&quot;html_97c6d28868387b1351486e4fca499d45&quot; style=&quot;width: 100.0%; height: 100.0%;&quot;&gt;         &lt;h3&gt;UHI Map&lt;/h3&gt;         &lt;p&gt;This interactive map shows the location of the data files used          for Urban Heat Island analysis.&lt;/p&gt;         &lt;p&gt;Data files are located at:&lt;/p&gt;         &lt;p&gt;&lt;code&gt;/home/ronan/code/RonanB400/Project/UHI_model/data/Aligned&lt;/code&gt;&lt;/p&gt;         &lt;p&gt;For full visualization, please use specialized GIS software          like QGIS to view the original GeoTIFF files.&lt;/p&gt;         &lt;/div&gt;`)[0];\n",
       "                popup_9ca171d5235ada5a5595f4dabd1b4d37.setContent(html_97c6d28868387b1351486e4fca499d45);\n",
       "            \n",
       "        \n",
       "\n",
       "        marker_bc100e391542ec2df9e8ae0c687ba66b.bindPopup(popup_9ca171d5235ada5a5595f4dabd1b4d37)\n",
       "        ;\n",
       "\n",
       "        \n",
       "    \n",
       "    \n",
       "                marker_bc100e391542ec2df9e8ae0c687ba66b.setIcon(icon_8df8f85b40ded1674561b6c56ff35deb);\n",
       "            \n",
       "    \n",
       "            tile_layer_8c5f7b0f29591ebc7c040d42dbd50bd3.addTo(map_4284a2c71fe5c63710b9831d3b5e5e5a);\n",
       "        \n",
       "    \n",
       "            tile_layer_6f1a235705a9ed6f264f73fa35d918bc.addTo(map_4284a2c71fe5c63710b9831d3b5e5e5a);\n",
       "        \n",
       "    \n",
       "                marker_bc100e391542ec2df9e8ae0c687ba66b.setIcon(icon_8df8f85b40ded1674561b6c56ff35deb);\n",
       "            \n",
       "&lt;/script&gt;\n",
       "&lt;/html&gt;\" style=\"position:absolute;width:100%;height:100%;left:0;top:0;border:none !important;\" allowfullscreen webkitallowfullscreen mozallowfullscreen></iframe></div></div>"
      ],
      "text/plain": [
       "<folium.folium.Map at 0x7f5bd3577130>"
      ]
     },
     "execution_count": 27,
     "metadata": {},
     "output_type": "execute_result"
    }
   ],
   "source": [
    "from uhi import visualize_map\n",
    "\n",
    "visualize_map.main(output_dir)"
   ]
  },
  {
   "cell_type": "code",
   "execution_count": 18,
   "metadata": {},
   "outputs": [
    {
     "data": {
      "text/html": [
       "\n",
       "            <style>\n",
       "                .geemap-dark {\n",
       "                    --jp-widgets-color: white;\n",
       "                    --jp-widgets-label-color: white;\n",
       "                    --jp-ui-font-color1: white;\n",
       "                    --jp-layout-color2: #454545;\n",
       "                    background-color: #383838;\n",
       "                }\n",
       "\n",
       "                .geemap-dark .jupyter-button {\n",
       "                    --jp-layout-color3: #383838;\n",
       "                }\n",
       "\n",
       "                .geemap-colab {\n",
       "                    background-color: var(--colab-primary-surface-color, white);\n",
       "                }\n",
       "\n",
       "                .geemap-colab .jupyter-button {\n",
       "                    --jp-layout-color3: var(--colab-primary-surface-color, white);\n",
       "                }\n",
       "            </style>\n",
       "            "
      ],
      "text/plain": [
       "<IPython.core.display.HTML object>"
      ]
     },
     "metadata": {},
     "output_type": "display_data"
    }
   ],
   "source": [
    "from uhi.visualize_map import *\n",
    "\n",
    "m = create_map()"
   ]
  },
  {
   "cell_type": "code",
   "execution_count": 20,
   "metadata": {},
   "outputs": [
    {
     "data": {
      "text/html": [
       "\n",
       "            <style>\n",
       "                .geemap-dark {\n",
       "                    --jp-widgets-color: white;\n",
       "                    --jp-widgets-label-color: white;\n",
       "                    --jp-ui-font-color1: white;\n",
       "                    --jp-layout-color2: #454545;\n",
       "                    background-color: #383838;\n",
       "                }\n",
       "\n",
       "                .geemap-dark .jupyter-button {\n",
       "                    --jp-layout-color3: #383838;\n",
       "                }\n",
       "\n",
       "                .geemap-colab {\n",
       "                    background-color: var(--colab-primary-surface-color, white);\n",
       "                }\n",
       "\n",
       "                .geemap-colab .jupyter-button {\n",
       "                    --jp-layout-color3: var(--colab-primary-surface-color, white);\n",
       "                }\n",
       "            </style>\n",
       "            "
      ],
      "text/plain": [
       "<IPython.core.display.HTML object>"
      ]
     },
     "metadata": {},
     "output_type": "display_data"
    },
    {
     "data": {
      "text/plain": [
       "'/home/ronan/code/RonanB400/Project/UHI_model/data/Aligned'"
      ]
     },
     "execution_count": 20,
     "metadata": {},
     "output_type": "execute_result"
    }
   ],
   "source": [
    "data_dir = os.path.join(output_dir,'Aligned')\n",
    "data_dir"
   ]
  },
  {
   "cell_type": "code",
   "execution_count": 22,
   "metadata": {},
   "outputs": [
    {
     "data": {
      "text/html": [
       "\n",
       "            <style>\n",
       "                .geemap-dark {\n",
       "                    --jp-widgets-color: white;\n",
       "                    --jp-widgets-label-color: white;\n",
       "                    --jp-ui-font-color1: white;\n",
       "                    --jp-layout-color2: #454545;\n",
       "                    background-color: #383838;\n",
       "                }\n",
       "\n",
       "                .geemap-dark .jupyter-button {\n",
       "                    --jp-layout-color3: #383838;\n",
       "                }\n",
       "\n",
       "                .geemap-colab {\n",
       "                    background-color: var(--colab-primary-surface-color, white);\n",
       "                }\n",
       "\n",
       "                .geemap-colab .jupyter-button {\n",
       "                    --jp-layout-color3: var(--colab-primary-surface-color, white);\n",
       "                }\n",
       "            </style>\n",
       "            "
      ],
      "text/plain": [
       "<IPython.core.display.HTML object>"
      ]
     },
     "metadata": {},
     "output_type": "display_data"
    },
    {
     "data": {
      "text/plain": [
       "['/home/ronan/code/RonanB400/Project/UHI_model/data/Aligned/Lyon_LST_Landsat_2022-07-14_aligned.tif']"
      ]
     },
     "execution_count": 22,
     "metadata": {},
     "output_type": "execute_result"
    }
   ],
   "source": [
    "lst_files = glob.glob(os.path.join(data_dir, '*LST*aligned.tif'))\n",
    "lst_files"
   ]
  },
  {
   "cell_type": "code",
   "execution_count": 25,
   "metadata": {},
   "outputs": [
    {
     "data": {
      "text/html": [
       "\n",
       "            <style>\n",
       "                .geemap-dark {\n",
       "                    --jp-widgets-color: white;\n",
       "                    --jp-widgets-label-color: white;\n",
       "                    --jp-ui-font-color1: white;\n",
       "                    --jp-layout-color2: #454545;\n",
       "                    background-color: #383838;\n",
       "                }\n",
       "\n",
       "                .geemap-dark .jupyter-button {\n",
       "                    --jp-layout-color3: #383838;\n",
       "                }\n",
       "\n",
       "                .geemap-colab {\n",
       "                    background-color: var(--colab-primary-surface-color, white);\n",
       "                }\n",
       "\n",
       "                .geemap-colab .jupyter-button {\n",
       "                    --jp-layout-color3: var(--colab-primary-surface-color, white);\n",
       "                }\n",
       "            </style>\n",
       "            "
      ],
      "text/plain": [
       "<IPython.core.display.HTML object>"
      ]
     },
     "metadata": {},
     "output_type": "display_data"
    },
    {
     "name": "stdout",
     "output_type": "stream",
     "text": [
      "LST bounds: 4.770054158674659, 45.724247961683645, 4.89941155958787, 45.81497780537972\n"
     ]
    },
    {
     "ename": "IndexError",
     "evalue": "tuple index out of range",
     "output_type": "error",
     "traceback": [
      "\u001b[0;31m---------------------------------------------------------------------------\u001b[0m",
      "\u001b[0;31mIndexError\u001b[0m                                Traceback (most recent call last)",
      "Cell \u001b[0;32mIn[25], line 25\u001b[0m\n\u001b[1;32m     22\u001b[0m colormap\u001b[38;5;241m.\u001b[39mcaption \u001b[38;5;241m=\u001b[39m \u001b[38;5;124m'\u001b[39m\u001b[38;5;124mTemperature (°C)\u001b[39m\u001b[38;5;124m'\u001b[39m\n\u001b[1;32m     24\u001b[0m \u001b[38;5;66;03m# Add the image overlay\u001b[39;00m\n\u001b[0;32m---> 25\u001b[0m img_overlay \u001b[38;5;241m=\u001b[39m \u001b[43mfolium\u001b[49m\u001b[38;5;241;43m.\u001b[39;49m\u001b[43mraster_layers\u001b[49m\u001b[38;5;241;43m.\u001b[39;49m\u001b[43mImageOverlay\u001b[49m\u001b[43m(\u001b[49m\n\u001b[1;32m     26\u001b[0m \u001b[43m    \u001b[49m\u001b[43mimage\u001b[49m\u001b[38;5;241;43m=\u001b[39;49m\u001b[43mdata_celsius\u001b[49m\u001b[43m,\u001b[49m\n\u001b[1;32m     27\u001b[0m \u001b[43m    \u001b[49m\u001b[43mbounds\u001b[49m\u001b[38;5;241;43m=\u001b[39;49m\u001b[43m[\u001b[49m\u001b[43m[\u001b[49m\u001b[43mmin_lat\u001b[49m\u001b[43m,\u001b[49m\u001b[43m \u001b[49m\u001b[43mmin_lon\u001b[49m\u001b[43m]\u001b[49m\u001b[43m,\u001b[49m\u001b[43m \u001b[49m\u001b[43m[\u001b[49m\u001b[43mmax_lat\u001b[49m\u001b[43m,\u001b[49m\u001b[43m \u001b[49m\u001b[43mmax_lon\u001b[49m\u001b[43m]\u001b[49m\u001b[43m]\u001b[49m\u001b[43m,\u001b[49m\n\u001b[1;32m     28\u001b[0m \u001b[43m    \u001b[49m\u001b[43mopacity\u001b[49m\u001b[38;5;241;43m=\u001b[39;49m\u001b[38;5;241;43m0.7\u001b[39;49m\u001b[43m,\u001b[49m\n\u001b[1;32m     29\u001b[0m \u001b[43m    \u001b[49m\u001b[43mname\u001b[49m\u001b[38;5;241;43m=\u001b[39;49m\u001b[43mlayer_name\u001b[49m\u001b[43m,\u001b[49m\n\u001b[1;32m     30\u001b[0m \u001b[43m    \u001b[49m\u001b[43mcolormap\u001b[49m\u001b[38;5;241;43m=\u001b[39;49m\u001b[38;5;28;43;01mlambda\u001b[39;49;00m\u001b[43m \u001b[49m\u001b[43mx\u001b[49m\u001b[43m:\u001b[49m\u001b[43m \u001b[49m\u001b[43mcolormap\u001b[49m\u001b[43m(\u001b[49m\u001b[43mx\u001b[49m\u001b[43m)\u001b[49m\u001b[43m,\u001b[49m\n\u001b[1;32m     31\u001b[0m \u001b[43m    \u001b[49m\u001b[43morigin\u001b[49m\u001b[38;5;241;43m=\u001b[39;49m\u001b[38;5;124;43m'\u001b[39;49m\u001b[38;5;124;43mlower\u001b[39;49m\u001b[38;5;124;43m'\u001b[39;49m\n\u001b[1;32m     32\u001b[0m \u001b[43m)\u001b[49m\n\u001b[1;32m     33\u001b[0m img_overlay\u001b[38;5;241m.\u001b[39madd_to(m)\n\u001b[1;32m     34\u001b[0m colormap\u001b[38;5;241m.\u001b[39madd_to(m)\n",
      "File \u001b[0;32m~/.pyenv/versions/3.10.6/envs/UHI_model_env/lib/python3.10/site-packages/folium/raster_layers.py:322\u001b[0m, in \u001b[0;36mImageOverlay.__init__\u001b[0;34m(self, image, bounds, origin, colormap, mercator_project, pixelated, name, overlay, control, show, **kwargs)\u001b[0m\n\u001b[1;32m    317\u001b[0m \u001b[38;5;28;01mif\u001b[39;00m mercator_project:\n\u001b[1;32m    318\u001b[0m     image \u001b[38;5;241m=\u001b[39m mercator_transform(\n\u001b[1;32m    319\u001b[0m         image, (bounds[\u001b[38;5;241m0\u001b[39m][\u001b[38;5;241m0\u001b[39m], bounds[\u001b[38;5;241m1\u001b[39m][\u001b[38;5;241m0\u001b[39m]), origin\u001b[38;5;241m=\u001b[39morigin\n\u001b[1;32m    320\u001b[0m     )\n\u001b[0;32m--> 322\u001b[0m \u001b[38;5;28mself\u001b[39m\u001b[38;5;241m.\u001b[39murl \u001b[38;5;241m=\u001b[39m \u001b[43mimage_to_url\u001b[49m\u001b[43m(\u001b[49m\u001b[43mimage\u001b[49m\u001b[43m,\u001b[49m\u001b[43m \u001b[49m\u001b[43morigin\u001b[49m\u001b[38;5;241;43m=\u001b[39;49m\u001b[43morigin\u001b[49m\u001b[43m,\u001b[49m\u001b[43m \u001b[49m\u001b[43mcolormap\u001b[49m\u001b[38;5;241;43m=\u001b[39;49m\u001b[43mcolormap\u001b[49m\u001b[43m)\u001b[49m\n",
      "File \u001b[0;32m~/.pyenv/versions/3.10.6/envs/UHI_model_env/lib/python3.10/site-packages/folium/utilities.py:195\u001b[0m, in \u001b[0;36mimage_to_url\u001b[0;34m(image, colormap, origin)\u001b[0m\n\u001b[1;32m    193\u001b[0m     url \u001b[38;5;241m=\u001b[39m \u001b[38;5;124mf\u001b[39m\u001b[38;5;124m\"\u001b[39m\u001b[38;5;124mdata:image/\u001b[39m\u001b[38;5;132;01m{\u001b[39;00mfileformat\u001b[38;5;132;01m}\u001b[39;00m\u001b[38;5;124m;base64,\u001b[39m\u001b[38;5;132;01m{\u001b[39;00mb64encoded\u001b[38;5;132;01m}\u001b[39;00m\u001b[38;5;124m\"\u001b[39m\n\u001b[1;32m    194\u001b[0m \u001b[38;5;28;01melif\u001b[39;00m \u001b[38;5;124m\"\u001b[39m\u001b[38;5;124mndarray\u001b[39m\u001b[38;5;124m\"\u001b[39m \u001b[38;5;129;01min\u001b[39;00m image\u001b[38;5;241m.\u001b[39m\u001b[38;5;18m__class__\u001b[39m\u001b[38;5;241m.\u001b[39m\u001b[38;5;18m__name__\u001b[39m:\n\u001b[0;32m--> 195\u001b[0m     img \u001b[38;5;241m=\u001b[39m \u001b[43mwrite_png\u001b[49m\u001b[43m(\u001b[49m\u001b[43mimage\u001b[49m\u001b[43m,\u001b[49m\u001b[43m \u001b[49m\u001b[43morigin\u001b[49m\u001b[38;5;241;43m=\u001b[39;49m\u001b[43morigin\u001b[49m\u001b[43m,\u001b[49m\u001b[43m \u001b[49m\u001b[43mcolormap\u001b[49m\u001b[38;5;241;43m=\u001b[39;49m\u001b[43mcolormap\u001b[49m\u001b[43m)\u001b[49m\n\u001b[1;32m    196\u001b[0m     b64encoded \u001b[38;5;241m=\u001b[39m base64\u001b[38;5;241m.\u001b[39mb64encode(img)\u001b[38;5;241m.\u001b[39mdecode(\u001b[38;5;124m\"\u001b[39m\u001b[38;5;124mutf-8\u001b[39m\u001b[38;5;124m\"\u001b[39m)\n\u001b[1;32m    197\u001b[0m     url \u001b[38;5;241m=\u001b[39m \u001b[38;5;124mf\u001b[39m\u001b[38;5;124m\"\u001b[39m\u001b[38;5;124mdata:image/png;base64,\u001b[39m\u001b[38;5;132;01m{\u001b[39;00mb64encoded\u001b[38;5;132;01m}\u001b[39;00m\u001b[38;5;124m\"\u001b[39m\n",
      "File \u001b[0;32m~/.pyenv/versions/3.10.6/envs/UHI_model_env/lib/python3.10/site-packages/branca/utilities.py:307\u001b[0m, in \u001b[0;36mwrite_png\u001b[0;34m(data, origin, colormap)\u001b[0m\n\u001b[1;32m    305\u001b[0m \u001b[38;5;28;01mif\u001b[39;00m nblayers \u001b[38;5;241m==\u001b[39m \u001b[38;5;241m1\u001b[39m:\n\u001b[1;32m    306\u001b[0m     array \u001b[38;5;241m=\u001b[39m np\u001b[38;5;241m.\u001b[39marray(\u001b[38;5;28mlist\u001b[39m(\u001b[38;5;28mmap\u001b[39m(colormap_callable, array\u001b[38;5;241m.\u001b[39mravel())))\n\u001b[0;32m--> 307\u001b[0m     nblayers \u001b[38;5;241m=\u001b[39m \u001b[43marray\u001b[49m\u001b[38;5;241;43m.\u001b[39;49m\u001b[43mshape\u001b[49m\u001b[43m[\u001b[49m\u001b[38;5;241;43m1\u001b[39;49m\u001b[43m]\u001b[49m\n\u001b[1;32m    308\u001b[0m     \u001b[38;5;28;01mif\u001b[39;00m nblayers \u001b[38;5;129;01mnot\u001b[39;00m \u001b[38;5;129;01min\u001b[39;00m [\u001b[38;5;241m3\u001b[39m, \u001b[38;5;241m4\u001b[39m]:\n\u001b[1;32m    309\u001b[0m         \u001b[38;5;28;01mraise\u001b[39;00m \u001b[38;5;167;01mValueError\u001b[39;00m(\n\u001b[1;32m    310\u001b[0m             \u001b[38;5;124m\"\u001b[39m\u001b[38;5;124mcolormap must provide colors of\u001b[39m\u001b[38;5;124m\"\u001b[39m \u001b[38;5;124m\"\u001b[39m\u001b[38;5;124mlength 3 (RGB) or 4 (RGBA)\u001b[39m\u001b[38;5;124m\"\u001b[39m,\n\u001b[1;32m    311\u001b[0m         )\n",
      "\u001b[0;31mIndexError\u001b[0m: tuple index out of range"
     ]
    }
   ],
   "source": [
    "layer_name=\"Land Surface Temperature\"\n",
    "\n",
    "lst_file = lst_files[0]\n",
    "\n",
    "data, bounds, transform, crs = load_raster(lst_file)\n",
    "    \n",
    "# Convert to Celsius\n",
    "data_celsius = data - 273.15  # Convert from Kelvin to Celsius\n",
    "\n",
    "# Get corners of the image - explicitly extract them to avoid indexing errors\n",
    "min_lon, min_lat, max_lon, max_lat = bounds.left, bounds.bottom, bounds.right, bounds.top\n",
    "\n",
    "# Print bounds for debugging\n",
    "print(f\"LST bounds: {min_lon}, {min_lat}, {max_lon}, {max_lat}\")\n",
    "\n",
    "# Create colormap for temperature\n",
    "colormap = cm.LinearColormap(\n",
    "    colors=['blue', 'cyan', 'yellow', 'orange', 'red'],\n",
    "    vmin=np.nanmin(data_celsius),\n",
    "    vmax=np.nanmax(data_celsius)\n",
    ")\n",
    "colormap.caption = 'Temperature (°C)'\n",
    "\n",
    "# Add the image overlay\n",
    "img_overlay = folium.raster_layers.ImageOverlay(\n",
    "    image=data_celsius,\n",
    "    bounds=[[min_lat, min_lon], [max_lat, max_lon]],\n",
    "    opacity=0.7,\n",
    "    name=layer_name,\n",
    "    colormap=lambda x: colormap(x),\n",
    "    origin='lower'\n",
    ")\n",
    "img_overlay.add_to(m)\n",
    "colormap.add_to(m)"
   ]
  },
  {
   "cell_type": "code",
   "execution_count": 28,
   "metadata": {},
   "outputs": [
    {
     "data": {
      "text/html": [
       "\n",
       "            <style>\n",
       "                .geemap-dark {\n",
       "                    --jp-widgets-color: white;\n",
       "                    --jp-widgets-label-color: white;\n",
       "                    --jp-ui-font-color1: white;\n",
       "                    --jp-layout-color2: #454545;\n",
       "                    background-color: #383838;\n",
       "                }\n",
       "\n",
       "                .geemap-dark .jupyter-button {\n",
       "                    --jp-layout-color3: #383838;\n",
       "                }\n",
       "\n",
       "                .geemap-colab {\n",
       "                    background-color: var(--colab-primary-surface-color, white);\n",
       "                }\n",
       "\n",
       "                .geemap-colab .jupyter-button {\n",
       "                    --jp-layout-color3: var(--colab-primary-surface-color, white);\n",
       "                }\n",
       "            </style>\n",
       "            "
      ],
      "text/plain": [
       "<IPython.core.display.HTML object>"
      ]
     },
     "metadata": {},
     "output_type": "display_data"
    },
    {
     "data": {
      "text/plain": [
       "'/home/ronan/code/RonanB400/Project/UHI_model/data'"
      ]
     },
     "execution_count": 28,
     "metadata": {},
     "output_type": "execute_result"
    }
   ],
   "source": [
    "\n",
    "\n",
    "output_dir\n"
   ]
  },
  {
   "cell_type": "code",
   "execution_count": null,
   "metadata": {},
   "outputs": [
    {
     "data": {
      "text/html": [
       "\n",
       "            <style>\n",
       "                .geemap-dark {\n",
       "                    --jp-widgets-color: white;\n",
       "                    --jp-widgets-label-color: white;\n",
       "                    --jp-ui-font-color1: white;\n",
       "                    --jp-layout-color2: #454545;\n",
       "                    background-color: #383838;\n",
       "                }\n",
       "\n",
       "                .geemap-dark .jupyter-button {\n",
       "                    --jp-layout-color3: #383838;\n",
       "                }\n",
       "\n",
       "                .geemap-colab {\n",
       "                    background-color: var(--colab-primary-surface-color, white);\n",
       "                }\n",
       "\n",
       "                .geemap-colab .jupyter-button {\n",
       "                    --jp-layout-color3: var(--colab-primary-surface-color, white);\n",
       "                }\n",
       "            </style>\n",
       "            "
      ],
      "text/plain": [
       "<IPython.core.display.HTML object>"
      ]
     },
     "metadata": {},
     "output_type": "display_data"
    },
    {
     "ename": "ModuleNotFoundError",
     "evalue": "No module named 'osgeo'",
     "output_type": "error",
     "traceback": [
      "\u001b[0;31m---------------------------------------------------------------------------\u001b[0m",
      "\u001b[0;31mModuleNotFoundError\u001b[0m                       Traceback (most recent call last)",
      "Cell \u001b[0;32mIn[30], line 1\u001b[0m\n\u001b[0;32m----> 1\u001b[0m \u001b[38;5;28;01mfrom\u001b[39;00m\u001b[38;5;250m \u001b[39m\u001b[38;5;21;01mosgeo\u001b[39;00m\u001b[38;5;250m \u001b[39m\u001b[38;5;28;01mimport\u001b[39;00m gdal\n\u001b[1;32m      2\u001b[0m \u001b[38;5;28;01mimport\u001b[39;00m\u001b[38;5;250m \u001b[39m\u001b[38;5;21;01mmatplotlib\u001b[39;00m\u001b[38;5;21;01m.\u001b[39;00m\u001b[38;5;21;01mpyplot\u001b[39;00m\u001b[38;5;250m \u001b[39m\u001b[38;5;28;01mas\u001b[39;00m\u001b[38;5;250m \u001b[39m\u001b[38;5;21;01mplt\u001b[39;00m\n\u001b[1;32m      5\u001b[0m lst_path \u001b[38;5;241m=\u001b[39m os\u001b[38;5;241m.\u001b[39mpath\u001b[38;5;241m.\u001b[39mjoin(output_dir, \u001b[38;5;124m'\u001b[39m\u001b[38;5;124mAligned\u001b[39m\u001b[38;5;124m'\u001b[39m, lst_file)\n",
      "\u001b[0;31mModuleNotFoundError\u001b[0m: No module named 'osgeo'"
     ]
    }
   ],
   "source": [
    "from osgeo import gdal\n",
    "import matplotlib.pyplot as plt\n",
    "\n",
    "\n",
    "\n",
    "dataset = gdal.Open(lst_path)\n",
    "print(dataset.RasterCount)\n"
   ]
  },
  {
   "cell_type": "code",
   "execution_count": 39,
   "metadata": {},
   "outputs": [
    {
     "data": {
      "text/html": [
       "\n",
       "            <style>\n",
       "                .geemap-dark {\n",
       "                    --jp-widgets-color: white;\n",
       "                    --jp-widgets-label-color: white;\n",
       "                    --jp-ui-font-color1: white;\n",
       "                    --jp-layout-color2: #454545;\n",
       "                    background-color: #383838;\n",
       "                }\n",
       "\n",
       "                .geemap-dark .jupyter-button {\n",
       "                    --jp-layout-color3: #383838;\n",
       "                }\n",
       "\n",
       "                .geemap-colab {\n",
       "                    background-color: var(--colab-primary-surface-color, white);\n",
       "                }\n",
       "\n",
       "                .geemap-colab .jupyter-button {\n",
       "                    --jp-layout-color3: var(--colab-primary-surface-color, white);\n",
       "                }\n",
       "            </style>\n",
       "            "
      ],
      "text/plain": [
       "<IPython.core.display.HTML object>"
      ]
     },
     "metadata": {},
     "output_type": "display_data"
    },
    {
     "data": {
      "image/png": "[encoded data removed]",
      "text/plain": [
       "<Figure size 640x480 with 2 Axes>"
      ]
     },
     "metadata": {},
     "output_type": "display_data"
    }
   ],
   "source": [
    "import rasterio\n",
    "import matplotlib.pyplot as plt\n",
    "\n",
    "lst_file = 'Lyon_LST_Landsat_2022-07-14_aligned.tif'\n",
    "ndvi_file = 'Lyon_NDVI_Sentinel_2022-07-18_aligned.tif'\n",
    "impervious_file = 'Lyon_Impervious_GHSL_2018-01-01_aligned.tif'\n",
    "land_cover_file = 'Lyon_LandCover_ESA_2021-01-01_aligned.tif'\n",
    "\n",
    "lst_path = os.path.join(output_dir, 'Aligned', lst_file)\n",
    "ndvi_path = os.path.join(output_dir, 'Aligned', ndvi_file)\n",
    "impervious_path = os.path.join(output_dir, 'Aligned', impervious_file)\n",
    "land_cover_path = os.path.join(output_dir, 'Aligned', land_cover_file)\n",
    "\n",
    "\n",
    "\n",
    "# Open the GeoTIFF\n",
    "with rasterio.open(land_cover_path) as src:\n",
    "    img = src.read(1)  # Read the first band\n",
    "\n",
    "# Plot the image\n",
    "plt.imshow(img, cmap='gray')\n",
    "plt.colorbar()\n",
    "plt.title(\"Band 1\")\n",
    "plt.show()\n"
   ]
  },
  {
   "cell_type": "code",
   "execution_count": null,
   "metadata": {},
   "outputs": [],
   "source": []
  }
 ],
 "metadata": {
  "kernelspec": {
   "display_name": "UHI_model_env",
   "language": "python",
   "name": "python3"
  },
  "language_info": {
   "codemirror_mode": {
    "name": "ipython",
    "version": 3
   },
   "file_extension": ".py",
   "mimetype": "text/x-python",
   "name": "python",
   "nbconvert_exporter": "python",
   "pygments_lexer": "ipython3",
   "version": "3.10.6"
  }
 },
 "nbformat": 4,
 "nbformat_minor": 2
}
